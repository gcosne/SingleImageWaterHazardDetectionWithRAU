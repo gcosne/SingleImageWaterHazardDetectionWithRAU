{
 "cells": [
  {
   "cell_type": "code",
   "execution_count": null,
   "metadata": {},
   "outputs": [],
   "source": []
  },
  {
   "cell_type": "code",
   "execution_count": null,
   "metadata": {
    "scrolled": true
   },
   "outputs": [],
   "source": [
    "# !unzip /network/tmp1/cosnegau/dataset_cosnegau.zip -d /network/tmp1/cosnegau/\n",
    "# !ls /network/tmp1/cosnegau/"
   ]
  },
  {
   "cell_type": "code",
   "execution_count": null,
   "metadata": {},
   "outputs": [],
   "source": [
    "# !pip3 install --no-cache-dir tensorflow-gpu"
   ]
  },
  {
   "cell_type": "code",
   "execution_count": null,
   "metadata": {},
   "outputs": [],
   "source": [
    "# !pip install scipy\n",
    "# !pip install scikit-image\n",
    "# !pip install visvis\n",
    "# !pip install opencv-python"
   ]
  },
  {
   "cell_type": "markdown",
   "metadata": {},
   "source": [
    "**Change the path to the temporary folder it is stored**"
   ]
  },
  {
   "cell_type": "code",
   "execution_count": null,
   "metadata": {},
   "outputs": [],
   "source": [
    "# import string\n",
    "# path = \"/network/tmp1/cosnegau/Dataset/\"\n",
    "# list_sub_path=[\"both_road_test\", \"both_road_train\", \"off_road_test\",\"off_road_train\",\"on_road_test\",\"on_road_train\"]\n",
    "\n",
    "# for sub_path in list_sub_path:\n",
    "#     full_path = path+sub_path+\".txt\"\n",
    "#     s = open(full_path).read()\n",
    "#     s = s.replace('..', '/network/tmp1/cosnegau')\n",
    "#     f = open(full_path, 'w')\n",
    "#     f.write(s)\n",
    "#     f.close()"
   ]
  },
  {
   "cell_type": "markdown",
   "metadata": {},
   "source": [
    "**Actual Code**"
   ]
  },
  {
   "cell_type": "code",
   "execution_count": 1,
   "metadata": {},
   "outputs": [],
   "source": [
    "from __future__ import print_function\n",
    "import tensorflow as tf\n",
    "import numpy as np\n",
    "import TensorflowUtils as utils\n",
    "import datetime\n",
    "from six.moves import xrange\n",
    "import glob\n",
    "from skimage import io, transform, color\n",
    "import glob\n",
    "import os\n",
    "import time\n",
    "import imageio\n",
    "\n",
    "FLAGS = tf.flags.FLAGS\n",
    "tf.flags.DEFINE_integer(\"batch_size\", \"1\", \"batch size for training\")\n",
    "tf.flags.DEFINE_string(\"logs_dir\", \"/network/tmp1/cosnegau/models/\", \"path to logs directory\")\n",
    "tf.flags.DEFINE_string(\"data_dir\", \"/network/tmp1/cosnegau/Dataset/\", \"path to dataset\")\n",
    "tf.flags.DEFINE_string(\"output_dir\", \"/network/tmp1/cosnegau/results/\", \"path of output\")\n",
    "tf.flags.DEFINE_float(\"learning_rate\", \"1e-6\", \"Learning rate for Adam Optimizer\")\n",
    "tf.flags.DEFINE_bool('debug', \"False\", \"Debug mode: True/ False\")\n",
    "tf.flags.DEFINE_string('mode', \"visualize\", \"Mode train/ test/ visualize\")\n",
    "\n",
    "MAX_ITERATION = int(1e5 + 1)\n",
    "NUM_OF_CLASSESS = 2\n",
    "batch_offset = 0\n",
    "IMAGE_SIZE_HEIGHT = 360\n",
    "IMAGE_SIZE_WIDTH = 640"
   ]
  },
  {
   "cell_type": "code",
   "execution_count": 2,
   "metadata": {},
   "outputs": [],
   "source": [
    "def load_training_dataset_path():\n",
    "    p = np.genfromtxt(FLAGS.data_dir+'on_road_train.txt',dtype='str')\n",
    "    return p\n",
    "\n",
    "def load_data(p, step):\n",
    "    imgs=[]\n",
    "    gt_imgs=[]\n",
    "    gt_imgs2=[]\n",
    "    for i in range(p.shape[0]):\n",
    "        fp = p[i,0]\n",
    "        fp_gt = p[i,1]\n",
    "        #print(\"Loading images: %s \\t %s\"%(fp, fp_gt))\n",
    "\n",
    "        img = io.imread(fp)\n",
    "        img = img[:,0:1280,:]\n",
    "        img = transform.resize(img, (IMAGE_SIZE_HEIGHT, IMAGE_SIZE_WIDTH))\n",
    "        imgs.append(img)\n",
    "\n",
    "        gt_img = io.imread(fp_gt)\n",
    "        gt_img = transform.resize(gt_img, (IMAGE_SIZE_HEIGHT, IMAGE_SIZE_WIDTH))\n",
    "    for r in range(gt_img.shape[0]):\n",
    "        for c in range(gt_img.shape[1]):\n",
    "            if gt_img[r,c] == 1:\n",
    "                gt_img[r,c] = 1\n",
    "    else:\n",
    "        gt_img[r,c] = 0\n",
    "        \n",
    "    gt_imgs.append(gt_img)\n",
    "\n",
    "    gt_img2 = io.imread(fp_gt)\n",
    "    gt_img2 = transform.resize(gt_img2, (IMAGE_SIZE_HEIGHT, IMAGE_SIZE_WIDTH))\n",
    "    for r in range(gt_img2.shape[0]):\n",
    "        for c in range(gt_img2.shape[1]):\n",
    "            if gt_img2[r,c] == 1:\n",
    "                gt_img2[r,c] = 0\n",
    "            else:\n",
    "                gt_img2[r,c] = 1\n",
    "    gt_imgs2.append(gt_img2)\n",
    "\n",
    "    return np.asarray(imgs,np.float32), np.asarray(gt_imgs,np.int32), np.asarray(gt_imgs2, np.int32)\n",
    "\n",
    "def load_test_data(p):\n",
    "    imgs=[]\n",
    "    im = p\n",
    "    img = io.imread(im)\n",
    "    #print('img.shape', img.shape)\n",
    "    img = img[:,0:1280,:]\n",
    "    img = transform.resize(img, (IMAGE_SIZE_HEIGHT, IMAGE_SIZE_WIDTH))\n",
    "    imgs.append(img)\n",
    "    return np.asarray(imgs, np.float32)\n",
    "\n",
    "def inference(image, keep_prob):\n",
    "\n",
    "    with tf.variable_scope(\"seg_inference\"):\n",
    "        W1_1 = utils.weight_variable([3, 3, 3, 64], name=\"W1_1\")\n",
    "        b1_1 = utils.bias_variable([64], name=\"b1_1\")\n",
    "        conv1_1 = utils.conv2d_basic(image, W1_1, b1_1)\n",
    "        relu1_1 = tf.nn.relu(conv1_1, name=\"relu1_1\")\n",
    "\n",
    "        W1_2 = utils.weight_variable([3, 3, 64, 64], name=\"W1_2\")\n",
    "        b1_2 = utils.bias_variable([64], name=\"b1_2\")\n",
    "        conv1_2 = utils.conv2d_basic(relu1_1, W1_2, b1_2)\n",
    "        relu1_2 = tf.nn.relu(conv1_2, name=\"relu1_2\")\n",
    "\n",
    "        ra_1, ra_1_small = utils.RA_unit(relu1_2, relu1_2.shape[1].value, relu1_2.shape[2].value, 16)\n",
    "        W_s1 = utils.weight_variable([3, 3, 64*(1+16), 64], name=\"W_s1\")\n",
    "        b_s1 = utils.bias_variable([64], name=\"b_s1\")\n",
    "        conv_s1 = utils.conv2d_basic(ra_1, W_s1, b_s1)\n",
    "        relu_s1 = tf.nn.relu(conv_s1, name=\"relu_s1\")\n",
    "\n",
    "        pool1 = utils.max_pool_2x2(relu_s1)\n",
    "\n",
    "        W2_1 = utils.weight_variable([3, 3, 64, 128], name=\"W2_1\")\n",
    "        b2_1 = utils.bias_variable([128], name=\"b2_1\")\n",
    "        conv2_1 = utils.conv2d_basic(pool1, W2_1, b2_1)\n",
    "        relu2_1 = tf.nn.relu(conv2_1, name=\"relu2_1\")\n",
    "\n",
    "        W2_2 = utils.weight_variable([3, 3, 128, 128], name=\"W2_2\")\n",
    "        b2_2 = utils.bias_variable([128], name=\"b2_2\")\n",
    "        conv2_2 = utils.conv2d_basic(relu2_1, W2_2, b2_2)\n",
    "        relu2_2 = tf.nn.relu(conv2_2, name=\"relu2_2\")\n",
    "\n",
    "        ra_2, ra_2_small = utils.RA_unit(relu2_2, relu2_2.shape[1].value, relu2_2.shape[2].value, 16)\n",
    "        W_s2 = utils.weight_variable([3, 3, 128*(1+16), 128], name=\"W_s2\")\n",
    "        b_s2 = utils.bias_variable([128], name=\"b_s2\")\n",
    "        conv_s2 = utils.conv2d_basic(ra_2, W_s2, b_s2)\n",
    "        relu_s2 = tf.nn.relu(conv_s2, name=\"relu_s2\")\n",
    "\n",
    "        pool2 = utils.max_pool_2x2(relu_s2)\n",
    "\n",
    "        W3_1 = utils.weight_variable([3, 3, 128, 256], name=\"W3_1\")\n",
    "        b3_1 = utils.bias_variable([256], name=\"b3_1\")\n",
    "        conv3_1 = utils.conv2d_basic(pool2, W3_1, b3_1)\n",
    "        relu3_1 = tf.nn.relu(conv3_1, name=\"relu3_1\")\n",
    "\n",
    "        W3_2 = utils.weight_variable([3, 3, 256, 256], name=\"W3_2\")\n",
    "        b3_2 = utils.bias_variable([256], name=\"b3_2\")\n",
    "        conv3_2 = utils.conv2d_basic(relu3_1, W3_2, b3_2)\n",
    "        relu3_2 = tf.nn.relu(conv3_2, name=\"relu3_2\")\n",
    "\n",
    "        W3_3 = utils.weight_variable([3, 3, 256, 256], name=\"W3_3\")\n",
    "        b3_3 = utils.bias_variable([256], name=\"b3_3\")\n",
    "        conv3_3 = utils.conv2d_basic(relu3_2, W3_3, b3_3)\n",
    "        relu3_3 = tf.nn.relu(conv3_3, name=\"relu3_3\")\n",
    "\n",
    "        ra_3, ra_3_small = utils.RA_unit(relu3_3, relu3_3.shape[1].value, relu3_3.shape[2].value, 16)\n",
    "        W_s3 = utils.weight_variable([3, 3, 256*(1+16), 256], name=\"W_s3\")\n",
    "        b_s3 = utils.bias_variable([256], name=\"b_s3\")\n",
    "        conv_s3 = utils.conv2d_basic(ra_3, W_s3, b_s3)\n",
    "        relu_s3 = tf.nn.relu(conv_s3, name=\"relu_s3\")\n",
    "\n",
    "        pool3 = utils.max_pool_2x2(relu_s3)\n",
    "\n",
    "        W4_1 = utils.weight_variable([3, 3, 256, 512], name=\"W4_1\")\n",
    "        b4_1 = utils.bias_variable([512], name=\"b4_1\")\n",
    "        conv4_1 = utils.conv2d_basic(pool3, W4_1, b4_1)\n",
    "        relu4_1 = tf.nn.relu(conv4_1, name=\"relu4_1\")\n",
    "\n",
    "        W4_2 = utils.weight_variable([3, 3, 512, 512], name=\"W4_2\")\n",
    "        b4_2 = utils.bias_variable([512], name=\"b4_2\")\n",
    "        conv4_2 = utils.conv2d_basic(relu4_1, W4_2, b4_2)\n",
    "        relu4_2 = tf.nn.relu(conv4_2, name=\"relu4_2\")\n",
    "\n",
    "        W4_3 = utils.weight_variable([3, 3, 512, 512], name=\"W4_3\")\n",
    "        b4_3 = utils.bias_variable([512], name=\"b4_3\")\n",
    "        conv4_3 = utils.conv2d_basic(relu4_2, W4_3, b4_3)\n",
    "        relu4_3 = tf.nn.relu(conv4_3, name=\"relu4_3\")\n",
    "\n",
    "        ra_4, ra_4_small = utils.RA_unit(relu4_3, relu4_3.shape[1].value, relu4_3.shape[2].value, 16)\n",
    "        W_s4 = utils.weight_variable([3, 3, 512*(1+16), 512], name=\"W_s4\")\n",
    "        b_s4 = utils.bias_variable([512], name=\"b_s4\")\n",
    "        conv_s4 = utils.conv2d_basic(ra_4, W_s4, b_s4)\n",
    "        relu_s4 = tf.nn.relu(conv_s4, name=\"relu_s4\")\n",
    "\n",
    "        pool4 = utils.max_pool_2x2(relu_s4)\n",
    "\n",
    "        W5_1 = utils.weight_variable([3, 3, 512, 512], name=\"W5_1\")\n",
    "        b5_1 = utils.bias_variable([512], name=\"b5_1\")\n",
    "        conv5_1 = utils.conv2d_basic(pool4, W5_1, b5_1)\n",
    "        relu5_1 = tf.nn.relu(conv5_1, name=\"relu5_1\")\n",
    "\n",
    "        W5_2 = utils.weight_variable([3, 3, 512, 512], name=\"W5_2\")\n",
    "        b5_2 = utils.bias_variable([512], name=\"b5_2\")\n",
    "        conv5_2 = utils.conv2d_basic(relu5_1, W5_2, b5_2)\n",
    "        relu5_2 = tf.nn.relu(conv5_2, name=\"relu5_2\")\n",
    "\n",
    "        W5_3 = utils.weight_variable([3, 3, 512, 512], name=\"W5_3\")\n",
    "        b5_3 = utils.bias_variable([512], name=\"b5_3\")\n",
    "        conv5_3 = utils.conv2d_basic(relu5_2, W5_3, b5_3)\n",
    "        relu5_3 = tf.nn.relu(conv5_3, name=\"relu5_3\")\n",
    "\n",
    "        ra_5, ra_5_small = utils.RA_unit(relu5_3, relu5_3.shape[1].value, relu5_3.shape[2].value, 8)\n",
    "        W_s5 = utils.weight_variable([3, 3, 512*(1+8), 512], name=\"W_s5\")\n",
    "        b_s5 = utils.bias_variable([512], name=\"b_s5\")\n",
    "        conv_s5 = utils.conv2d_basic(ra_5, W_s5, b_s5)\n",
    "        relu_s5 = tf.nn.relu(conv_s5, name=\"relu_s5\")\n",
    "\n",
    "        pool5 = utils.max_pool_2x2(relu_s5)\n",
    "\n",
    "        W6 = utils.weight_variable([7, 7, pool4.shape[3].value, 4096], name=\"W6\")\n",
    "        b6 = utils.bias_variable([4096], name=\"b6\")\n",
    "        conv6 = utils.conv2d_basic(pool4, W6, b6)\n",
    "        relu6 = tf.nn.relu(conv6, name=\"relu6\")\n",
    "\n",
    "        relu_dropout6 = tf.nn.dropout(relu6, keep_prob=keep_prob)\n",
    "\n",
    "        W7 = utils.weight_variable([1, 1, 4096, 4096], name=\"W7\")\n",
    "        b7 = utils.bias_variable([4096], name=\"b7\")\n",
    "        conv7 = utils.conv2d_basic(relu_dropout6, W7, b7)\n",
    "        relu7 = tf.nn.relu(conv7, name=\"relu7\")\n",
    "\n",
    "        relu_dropout7 = tf.nn.dropout(relu7, keep_prob=keep_prob)\n",
    "\n",
    "        W8 = utils.weight_variable([1, 1, 4096, NUM_OF_CLASSESS], name=\"W8\")            #in our case num_of_classess = 2 : road, non-road\n",
    "        b8 = utils.bias_variable([NUM_OF_CLASSESS], name=\"b8\")\n",
    "        conv8 = utils.conv2d_basic(relu_dropout7, W8, b8)\n",
    "\n",
    "        # now to upscale to actual image size\n",
    "        deconv_shape1 = pool3.get_shape()\n",
    "        W_t1 = utils.weight_variable([4, 4, deconv_shape1[3].value, NUM_OF_CLASSESS], name=\"W_t1\")\n",
    "        b_t1 = utils.bias_variable([deconv_shape1[3].value], name=\"b_t1\")\n",
    "        conv_t1 = utils.conv2d_transpose_strided(conv8, W_t1, b_t1, output_shape=tf.shape(pool3))\n",
    "        fuse_1 = tf.add(conv_t1, pool3, name=\"fuse_1\")\n",
    "\n",
    "        deconv_shape2 = pool2.get_shape()\n",
    "        W_t2 = utils.weight_variable([4, 4, deconv_shape2[3].value, deconv_shape1[3].value], name=\"W_t2\")\n",
    "        b_t2 = utils.bias_variable([deconv_shape2[3].value], name=\"b_t2\")\n",
    "        conv_t2 = utils.conv2d_transpose_strided(fuse_1, W_t2, b_t2, output_shape=tf.shape(pool2))\n",
    "        fuse_2 = tf.add(conv_t2, pool2, name=\"fuse_2\")\n",
    "        #print(\"fuse_2 shape:\")\n",
    "        #print(fuse_2.shape)\n",
    "\n",
    "        shape = tf.shape(image)\n",
    "        deconv_shape3 = tf.stack([shape[0], shape[1], shape[2], NUM_OF_CLASSESS])\n",
    "        W_t3 = utils.weight_variable([16, 16, NUM_OF_CLASSESS, fuse_2.shape[3].value], name=\"W_t3\")\n",
    "        b_t3 = utils.bias_variable([NUM_OF_CLASSESS], name=\"b_t3\")\n",
    "        conv_t3 = utils.conv2d_transpose_strided(fuse_2, W_t3, b_t3, output_shape=deconv_shape3, stride=4, stride_y=4)\n",
    "\n",
    "        annotation_pred = tf.argmax(conv_t3, dimension=3, name=\"prediction\")\n",
    "\n",
    "    return annotation_pred, conv_t3                # conv_t3 is the final result\n",
    "\n",
    "def train(loss_val, var_list):\n",
    "    optimizer = tf.train.AdamOptimizer(FLAGS.learning_rate)\n",
    "    grads = optimizer.compute_gradients(loss_val, var_list=var_list)\n",
    "    return optimizer.apply_gradients(grads)\n",
    "\n",
    "def next_batch(batch_size, step):\n",
    "    global batch_offset\n",
    "    global p\n",
    "    start = batch_offset\n",
    "    batch_offset += batch_size\n",
    "    if batch_offset > p.shape[0]:\n",
    "        #         print(\"Shuffle data\")\n",
    "        # Shuffle the data\n",
    "        perm = np.arange(p.shape[0])\n",
    "        np.random.shuffle(perm)\n",
    "        p = p[perm]\n",
    "        # Start next epoch\n",
    "        start = 0\n",
    "        batch_offset = batch_size\n",
    "    end = batch_offset\n",
    "    #print(\"train_img start %d end %d\"%(start, end))\n",
    "    return p[start:end]\n",
    "def color_img(path):\n",
    "    return(imageio.imread(path).shape[2]==3)\n",
    "\n",
    "def main(argv=None):\n",
    "    keep_probability = tf.placeholder(tf.float32, name=\"keep_probabilty\")\n",
    "    image = tf.placeholder(tf.float32, shape=[None, IMAGE_SIZE_HEIGHT, IMAGE_SIZE_WIDTH, 3], name=\"input_image\")\n",
    "    annotation = tf.placeholder(tf.float32, shape=[None, IMAGE_SIZE_HEIGHT, IMAGE_SIZE_WIDTH, 2], name=\"annotation\")\n",
    "    pred_annotation, logits = inference(image, keep_probability)            # build the FCN graph\n",
    "\n",
    "    prob = tf.nn.softmax(logits)\n",
    "\n",
    "    logits_ = tf.reshape(logits, [1, IMAGE_SIZE_HEIGHT*IMAGE_SIZE_WIDTH, 2])\n",
    "    annotation_ = tf.reshape(annotation, [1, IMAGE_SIZE_HEIGHT*IMAGE_SIZE_WIDTH, 2])\n",
    "    loss = utils.focal_loss(logits_, annotation_)\n",
    "\n",
    "    trainable_var = tf.trainable_variables()\n",
    "    train_op = train(loss, trainable_var)\n",
    "\n",
    "    config = tf.ConfigProto()\n",
    "    config.gpu_options.allow_growth = True\n",
    "    config.allow_soft_placement = True\n",
    "\n",
    "    sess = tf.Session(config = config)\n",
    "\n",
    "    print(\"Setting up Saver...\")\n",
    "    saver = tf.train.Saver()\n",
    "\n",
    "    sess.run(tf.global_variables_initializer())\n",
    "    ckpt = tf.train.get_checkpoint_state(FLAGS.logs_dir)\n",
    "    if ckpt and ckpt.model_checkpoint_path and FLAGS.mode==\"visualize\":\n",
    "        saver.restore(sess, ckpt.model_checkpoint_path)\n",
    "        print(\"Model restored...\")\n",
    "\n",
    "    if FLAGS.mode == \"train\":\n",
    "        print(\"Loading data\")\n",
    "        global p;\n",
    "        p = load_training_dataset_path()\n",
    "        #train_imgs, gt_imgs = load_data(FLAGS.data_dir)\n",
    "        #gt_imgs = np.expand_dims(gt_imgs, axis=3)\n",
    "        print(\"Start Training...\")\n",
    "        for itr in xrange(MAX_ITERATION):\n",
    "            print('Step: %d'%(itr))\n",
    "            p1 = next_batch(FLAGS.batch_size, itr)\n",
    "            # print(\"p1:\\n\",p1)\n",
    "            x_train, y_train, y_train2 = load_data(p1, itr)\n",
    "            y_train = np.expand_dims(y_train, axis=3)\n",
    "            y_train2 = np.expand_dims(y_train2, axis=3)\n",
    "            label_in = np.concatenate((y_train2, y_train), axis=3)\n",
    "            #x_train, y_train = next_batch(train_imgs, gt_imgs, FLAGS.batch_size)    \n",
    "            feed_dict = {image: x_train, annotation: label_in, keep_probability: 0.85}\n",
    "            # print(\"train feed_dict done!\")\n",
    "            start_time = time.time()\n",
    "            sess.run(train_op, feed_dict = feed_dict)\n",
    "            dur = time.time() - start_time\n",
    "            print(\"duration : %f\"% dur)\n",
    "            if itr % 1 == 0:\n",
    "                train_loss = sess.run(loss, feed_dict = feed_dict)\n",
    "                print('KITTI Step: %d, Train_loss:%g'%(itr, train_loss))\n",
    "            #if itr % 100 == 0:\n",
    "                #    summary = sess.run(merged, feed_dict = feed_dict)\n",
    "                #    summary_writer.add_summary(summary, itr)\n",
    "            if itr % 5000 == 0:\n",
    "                print('Save Net Model...')\n",
    "                saver.save(sess, FLAGS.logs_dir + \"model.ckpt\", itr)\n",
    "            if itr % 5000 == 0 and itr >= 20000:\n",
    "                FLAGS.learning_rate = FLAGS.learning_rate / 2\n",
    "    elif FLAGS.mode == \"visualize\":\n",
    "        p = np.genfromtxt(FLAGS.data_dir+'on_road_test.txt', dtype='str')\n",
    "        for idx in range(0,p.shape[0]):\n",
    "#             p = p.reshape(-1,1)\n",
    "            if color_img(p[idx,0]):\n",
    "                test_images1 = load_test_data(p[idx,0])\n",
    "                img_name= p[idx,0].split('/')[-1].split('_')[1][:-4]\n",
    "#                 img_name= p[idx,0].split('/')[-1][:-4]#.split('_')[1][:-4]\n",
    "\n",
    "                print(img_name)\n",
    "                start_time = time.time()\n",
    "                likelyhood, pred = sess.run([prob, pred_annotation], feed_dict={image:test_images1, keep_probability: 1.0})\n",
    "                dur = time.time() - start_time\n",
    "                print(\"dur = \",dur)\n",
    "                print(pred.shape)\n",
    "                for itr in range(pred.shape[0]):\n",
    "                    utils.save_image(pred[itr].astype(np.float32), FLAGS.output_dir, name=img_name)\n",
    "                    print(\"Saved image :\",img_name)\n"
   ]
  },
  {
   "cell_type": "code",
   "execution_count": 3,
   "metadata": {
    "scrolled": true
   },
   "outputs": [
    {
     "name": "stdout",
     "output_type": "stream",
     "text": [
      "WARNING:tensorflow:From /network/home/cosnegau/.conda/envs/python36_env/lib/python3.6/site-packages/tensorflow/python/framework/op_def_library.py:263: colocate_with (from tensorflow.python.framework.ops) is deprecated and will be removed in a future version.\n",
      "Instructions for updating:\n",
      "Colocations handled automatically by placer.\n",
      "h and n : 360 16\n",
      "h and n : 180 16\n",
      "h and n : 90 16\n",
      "h and n : 45 16\n",
      "h and n : 23 8\n",
      "WARNING:tensorflow:From <ipython-input-2-cf3bb01b10f1>:165: calling dropout (from tensorflow.python.ops.nn_ops) with keep_prob is deprecated and will be removed in a future version.\n",
      "Instructions for updating:\n",
      "Please use `rate` instead of `keep_prob`. Rate should be set to `rate = 1 - keep_prob`.\n",
      "WARNING:tensorflow:From <ipython-input-2-cf3bb01b10f1>:199: calling argmax (from tensorflow.python.ops.math_ops) with dimension is deprecated and will be removed in a future version.\n",
      "Instructions for updating:\n",
      "Use the `axis` argument instead\n",
      "Setting up Saver...\n",
      "WARNING:tensorflow:From /network/home/cosnegau/.conda/envs/python36_env/lib/python3.6/site-packages/tensorflow/python/training/saver.py:1266: checkpoint_exists (from tensorflow.python.training.checkpoint_management) is deprecated and will be removed in a future version.\n",
      "Instructions for updating:\n",
      "Use standard file APIs to check for files with this prefix.\n",
      "INFO:tensorflow:Restoring parameters from /network/tmp1/cosnegau/models/model.ckpt-55000\n",
      "Model restored...\n",
      "000000301\n"
     ]
    },
    {
     "name": "stderr",
     "output_type": "stream",
     "text": [
      "Lossy conversion from float32 to uint8. Range [0, 1]. Convert image to uint8 prior to saving to suppress this warning.\n"
     ]
    },
    {
     "name": "stdout",
     "output_type": "stream",
     "text": [
      "dur =  4.299794435501099\n",
      "(1, 360, 640)\n",
      "Saved image : 000000301\n",
      "000000911\n"
     ]
    },
    {
     "name": "stderr",
     "output_type": "stream",
     "text": [
      "Lossy conversion from float32 to uint8. Range [0, 1]. Convert image to uint8 prior to saving to suppress this warning.\n"
     ]
    },
    {
     "name": "stdout",
     "output_type": "stream",
     "text": [
      "dur =  0.4130723476409912\n",
      "(1, 360, 640)\n",
      "Saved image : 000000911\n",
      "000000221\n"
     ]
    },
    {
     "name": "stderr",
     "output_type": "stream",
     "text": [
      "Lossy conversion from float32 to uint8. Range [0, 1]. Convert image to uint8 prior to saving to suppress this warning.\n"
     ]
    },
    {
     "name": "stdout",
     "output_type": "stream",
     "text": [
      "dur =  0.4107658863067627\n",
      "(1, 360, 640)\n",
      "Saved image : 000000221\n",
      "000005181\n"
     ]
    },
    {
     "name": "stderr",
     "output_type": "stream",
     "text": [
      "Lossy conversion from float32 to uint8. Range [0, 1]. Convert image to uint8 prior to saving to suppress this warning.\n"
     ]
    },
    {
     "name": "stdout",
     "output_type": "stream",
     "text": [
      "dur =  0.4128153324127197\n",
      "(1, 360, 640)\n",
      "Saved image : 000005181\n",
      "000004001\n"
     ]
    },
    {
     "name": "stderr",
     "output_type": "stream",
     "text": [
      "Lossy conversion from float32 to uint8. Range [0, 1]. Convert image to uint8 prior to saving to suppress this warning.\n"
     ]
    },
    {
     "name": "stdout",
     "output_type": "stream",
     "text": [
      "dur =  0.4120442867279053\n",
      "(1, 360, 640)\n",
      "Saved image : 000004001\n",
      "000003271\n"
     ]
    },
    {
     "name": "stderr",
     "output_type": "stream",
     "text": [
      "Lossy conversion from float32 to uint8. Range [0, 1]. Convert image to uint8 prior to saving to suppress this warning.\n"
     ]
    },
    {
     "name": "stdout",
     "output_type": "stream",
     "text": [
      "dur =  0.4093742370605469\n",
      "(1, 360, 640)\n",
      "Saved image : 000003271\n",
      "000002101\n"
     ]
    },
    {
     "name": "stderr",
     "output_type": "stream",
     "text": [
      "Lossy conversion from float32 to uint8. Range [0, 1]. Convert image to uint8 prior to saving to suppress this warning.\n"
     ]
    },
    {
     "name": "stdout",
     "output_type": "stream",
     "text": [
      "dur =  0.4118056297302246\n",
      "(1, 360, 640)\n",
      "Saved image : 000002101\n",
      "000004981\n"
     ]
    },
    {
     "name": "stderr",
     "output_type": "stream",
     "text": [
      "Lossy conversion from float32 to uint8. Range [0, 1]. Convert image to uint8 prior to saving to suppress this warning.\n"
     ]
    },
    {
     "name": "stdout",
     "output_type": "stream",
     "text": [
      "dur =  0.41390037536621094\n",
      "(1, 360, 640)\n",
      "Saved image : 000004981\n",
      "000000391\n"
     ]
    },
    {
     "name": "stderr",
     "output_type": "stream",
     "text": [
      "Lossy conversion from float32 to uint8. Range [0, 1]. Convert image to uint8 prior to saving to suppress this warning.\n"
     ]
    },
    {
     "name": "stdout",
     "output_type": "stream",
     "text": [
      "dur =  0.41185665130615234\n",
      "(1, 360, 640)\n",
      "Saved image : 000000391\n",
      "000005101\n"
     ]
    },
    {
     "name": "stderr",
     "output_type": "stream",
     "text": [
      "Lossy conversion from float32 to uint8. Range [0, 1]. Convert image to uint8 prior to saving to suppress this warning.\n"
     ]
    },
    {
     "name": "stdout",
     "output_type": "stream",
     "text": [
      "dur =  0.4143521785736084\n",
      "(1, 360, 640)\n",
      "Saved image : 000005101\n",
      "000000781\n"
     ]
    },
    {
     "name": "stderr",
     "output_type": "stream",
     "text": [
      "Lossy conversion from float32 to uint8. Range [0, 1]. Convert image to uint8 prior to saving to suppress this warning.\n"
     ]
    },
    {
     "name": "stdout",
     "output_type": "stream",
     "text": [
      "dur =  0.4120922088623047\n",
      "(1, 360, 640)\n",
      "Saved image : 000000781\n",
      "000000281\n"
     ]
    },
    {
     "name": "stderr",
     "output_type": "stream",
     "text": [
      "Lossy conversion from float32 to uint8. Range [0, 1]. Convert image to uint8 prior to saving to suppress this warning.\n"
     ]
    },
    {
     "name": "stdout",
     "output_type": "stream",
     "text": [
      "dur =  0.4092681407928467\n",
      "(1, 360, 640)\n",
      "Saved image : 000000281\n",
      "000000771\n"
     ]
    },
    {
     "name": "stderr",
     "output_type": "stream",
     "text": [
      "Lossy conversion from float32 to uint8. Range [0, 1]. Convert image to uint8 prior to saving to suppress this warning.\n"
     ]
    },
    {
     "name": "stdout",
     "output_type": "stream",
     "text": [
      "dur =  0.4102296829223633\n",
      "(1, 360, 640)\n",
      "Saved image : 000000771\n",
      "000000151\n"
     ]
    },
    {
     "name": "stderr",
     "output_type": "stream",
     "text": [
      "Lossy conversion from float32 to uint8. Range [0, 1]. Convert image to uint8 prior to saving to suppress this warning.\n"
     ]
    },
    {
     "name": "stdout",
     "output_type": "stream",
     "text": [
      "dur =  0.40823960304260254\n",
      "(1, 360, 640)\n",
      "Saved image : 000000151\n",
      "000000871\n"
     ]
    },
    {
     "name": "stderr",
     "output_type": "stream",
     "text": [
      "Lossy conversion from float32 to uint8. Range [0, 1]. Convert image to uint8 prior to saving to suppress this warning.\n"
     ]
    },
    {
     "name": "stdout",
     "output_type": "stream",
     "text": [
      "dur =  0.41197943687438965\n",
      "(1, 360, 640)\n",
      "Saved image : 000000871\n",
      "000002531\n"
     ]
    },
    {
     "name": "stderr",
     "output_type": "stream",
     "text": [
      "Lossy conversion from float32 to uint8. Range [0, 1]. Convert image to uint8 prior to saving to suppress this warning.\n"
     ]
    },
    {
     "name": "stdout",
     "output_type": "stream",
     "text": [
      "dur =  0.411557674407959\n",
      "(1, 360, 640)\n",
      "Saved image : 000002531\n",
      "000002251\n"
     ]
    },
    {
     "name": "stderr",
     "output_type": "stream",
     "text": [
      "Lossy conversion from float32 to uint8. Range [0, 1]. Convert image to uint8 prior to saving to suppress this warning.\n"
     ]
    },
    {
     "name": "stdout",
     "output_type": "stream",
     "text": [
      "dur =  0.40800976753234863\n",
      "(1, 360, 640)\n",
      "Saved image : 000002251\n",
      "000000101\n"
     ]
    },
    {
     "name": "stderr",
     "output_type": "stream",
     "text": [
      "Lossy conversion from float32 to uint8. Range [0, 1]. Convert image to uint8 prior to saving to suppress this warning.\n"
     ]
    },
    {
     "name": "stdout",
     "output_type": "stream",
     "text": [
      "dur =  0.4103877544403076\n",
      "(1, 360, 640)\n",
      "Saved image : 000000101\n",
      "000005131\n"
     ]
    },
    {
     "name": "stderr",
     "output_type": "stream",
     "text": [
      "Lossy conversion from float32 to uint8. Range [0, 1]. Convert image to uint8 prior to saving to suppress this warning.\n"
     ]
    },
    {
     "name": "stdout",
     "output_type": "stream",
     "text": [
      "dur =  0.4120638370513916\n",
      "(1, 360, 640)\n",
      "Saved image : 000005131\n",
      "000005331\n"
     ]
    },
    {
     "name": "stderr",
     "output_type": "stream",
     "text": [
      "Lossy conversion from float32 to uint8. Range [0, 1]. Convert image to uint8 prior to saving to suppress this warning.\n"
     ]
    },
    {
     "name": "stdout",
     "output_type": "stream",
     "text": [
      "dur =  0.4117739200592041\n",
      "(1, 360, 640)\n",
      "Saved image : 000005331\n",
      "000002201\n"
     ]
    },
    {
     "name": "stderr",
     "output_type": "stream",
     "text": [
      "Lossy conversion from float32 to uint8. Range [0, 1]. Convert image to uint8 prior to saving to suppress this warning.\n"
     ]
    },
    {
     "name": "stdout",
     "output_type": "stream",
     "text": [
      "dur =  0.4134998321533203\n",
      "(1, 360, 640)\n",
      "Saved image : 000002201\n",
      "000001271\n"
     ]
    },
    {
     "name": "stderr",
     "output_type": "stream",
     "text": [
      "Lossy conversion from float32 to uint8. Range [0, 1]. Convert image to uint8 prior to saving to suppress this warning.\n"
     ]
    },
    {
     "name": "stdout",
     "output_type": "stream",
     "text": [
      "dur =  0.41208481788635254\n",
      "(1, 360, 640)\n",
      "Saved image : 000001271\n",
      "000000751\n"
     ]
    },
    {
     "name": "stderr",
     "output_type": "stream",
     "text": [
      "Lossy conversion from float32 to uint8. Range [0, 1]. Convert image to uint8 prior to saving to suppress this warning.\n"
     ]
    },
    {
     "name": "stdout",
     "output_type": "stream",
     "text": [
      "dur =  0.4095876216888428\n",
      "(1, 360, 640)\n",
      "Saved image : 000000751\n",
      "000000471\n"
     ]
    },
    {
     "name": "stderr",
     "output_type": "stream",
     "text": [
      "Lossy conversion from float32 to uint8. Range [0, 1]. Convert image to uint8 prior to saving to suppress this warning.\n"
     ]
    },
    {
     "name": "stdout",
     "output_type": "stream",
     "text": [
      "dur =  0.41220688819885254\n",
      "(1, 360, 640)\n",
      "Saved image : 000000471\n",
      "000000491\n"
     ]
    },
    {
     "name": "stderr",
     "output_type": "stream",
     "text": [
      "Lossy conversion from float32 to uint8. Range [0, 1]. Convert image to uint8 prior to saving to suppress this warning.\n"
     ]
    },
    {
     "name": "stdout",
     "output_type": "stream",
     "text": [
      "dur =  0.41402125358581543\n",
      "(1, 360, 640)\n",
      "Saved image : 000000491\n",
      "000000621\n"
     ]
    },
    {
     "name": "stderr",
     "output_type": "stream",
     "text": [
      "Lossy conversion from float32 to uint8. Range [0, 1]. Convert image to uint8 prior to saving to suppress this warning.\n"
     ]
    },
    {
     "name": "stdout",
     "output_type": "stream",
     "text": [
      "dur =  0.40928220748901367\n",
      "(1, 360, 640)\n",
      "Saved image : 000000621\n",
      "000000941\n"
     ]
    },
    {
     "name": "stderr",
     "output_type": "stream",
     "text": [
      "Lossy conversion from float32 to uint8. Range [0, 1]. Convert image to uint8 prior to saving to suppress this warning.\n"
     ]
    },
    {
     "name": "stdout",
     "output_type": "stream",
     "text": [
      "dur =  0.41121363639831543\n",
      "(1, 360, 640)\n",
      "Saved image : 000000941\n",
      "000000511\n"
     ]
    },
    {
     "name": "stderr",
     "output_type": "stream",
     "text": [
      "Lossy conversion from float32 to uint8. Range [0, 1]. Convert image to uint8 prior to saving to suppress this warning.\n"
     ]
    },
    {
     "name": "stdout",
     "output_type": "stream",
     "text": [
      "dur =  0.4078488349914551\n",
      "(1, 360, 640)\n",
      "Saved image : 000000511\n",
      "000003421\n"
     ]
    },
    {
     "name": "stderr",
     "output_type": "stream",
     "text": [
      "Lossy conversion from float32 to uint8. Range [0, 1]. Convert image to uint8 prior to saving to suppress this warning.\n"
     ]
    },
    {
     "name": "stdout",
     "output_type": "stream",
     "text": [
      "dur =  0.4119424819946289\n",
      "(1, 360, 640)\n",
      "Saved image : 000003421\n",
      "000003861\n"
     ]
    },
    {
     "name": "stderr",
     "output_type": "stream",
     "text": [
      "Lossy conversion from float32 to uint8. Range [0, 1]. Convert image to uint8 prior to saving to suppress this warning.\n"
     ]
    },
    {
     "name": "stdout",
     "output_type": "stream",
     "text": [
      "dur =  0.41332507133483887\n",
      "(1, 360, 640)\n",
      "Saved image : 000003861\n",
      "000000381\n"
     ]
    },
    {
     "name": "stderr",
     "output_type": "stream",
     "text": [
      "Lossy conversion from float32 to uint8. Range [0, 1]. Convert image to uint8 prior to saving to suppress this warning.\n"
     ]
    },
    {
     "name": "stdout",
     "output_type": "stream",
     "text": [
      "dur =  0.4125545024871826\n",
      "(1, 360, 640)\n",
      "Saved image : 000000381\n",
      "000003891\n"
     ]
    },
    {
     "name": "stderr",
     "output_type": "stream",
     "text": [
      "Lossy conversion from float32 to uint8. Range [0, 1]. Convert image to uint8 prior to saving to suppress this warning.\n"
     ]
    },
    {
     "name": "stdout",
     "output_type": "stream",
     "text": [
      "dur =  0.4109480381011963\n",
      "(1, 360, 640)\n",
      "Saved image : 000003891\n",
      "000004591\n"
     ]
    },
    {
     "name": "stderr",
     "output_type": "stream",
     "text": [
      "Lossy conversion from float32 to uint8. Range [0, 1]. Convert image to uint8 prior to saving to suppress this warning.\n"
     ]
    },
    {
     "name": "stdout",
     "output_type": "stream",
     "text": [
      "dur =  0.41225719451904297\n",
      "(1, 360, 640)\n",
      "Saved image : 000004591\n",
      "000005031\n"
     ]
    },
    {
     "name": "stderr",
     "output_type": "stream",
     "text": [
      "Lossy conversion from float32 to uint8. Range [0, 1]. Convert image to uint8 prior to saving to suppress this warning.\n"
     ]
    },
    {
     "name": "stdout",
     "output_type": "stream",
     "text": [
      "dur =  0.40775394439697266\n",
      "(1, 360, 640)\n",
      "Saved image : 000005031\n",
      "000003791\n"
     ]
    },
    {
     "name": "stderr",
     "output_type": "stream",
     "text": [
      "Lossy conversion from float32 to uint8. Range [0, 1]. Convert image to uint8 prior to saving to suppress this warning.\n"
     ]
    },
    {
     "name": "stdout",
     "output_type": "stream",
     "text": [
      "dur =  0.4088170528411865\n",
      "(1, 360, 640)\n",
      "Saved image : 000003791\n",
      "000001121\n"
     ]
    },
    {
     "name": "stderr",
     "output_type": "stream",
     "text": [
      "Lossy conversion from float32 to uint8. Range [0, 1]. Convert image to uint8 prior to saving to suppress this warning.\n"
     ]
    },
    {
     "name": "stdout",
     "output_type": "stream",
     "text": [
      "dur =  0.40987443923950195\n",
      "(1, 360, 640)\n",
      "Saved image : 000001121\n",
      "000000251\n"
     ]
    },
    {
     "name": "stderr",
     "output_type": "stream",
     "text": [
      "Lossy conversion from float32 to uint8. Range [0, 1]. Convert image to uint8 prior to saving to suppress this warning.\n"
     ]
    },
    {
     "name": "stdout",
     "output_type": "stream",
     "text": [
      "dur =  0.4109632968902588\n",
      "(1, 360, 640)\n",
      "Saved image : 000000251\n",
      "000000181\n"
     ]
    },
    {
     "name": "stderr",
     "output_type": "stream",
     "text": [
      "Lossy conversion from float32 to uint8. Range [0, 1]. Convert image to uint8 prior to saving to suppress this warning.\n"
     ]
    },
    {
     "name": "stdout",
     "output_type": "stream",
     "text": [
      "dur =  0.40949416160583496\n",
      "(1, 360, 640)\n",
      "Saved image : 000000181\n",
      "000005191\n"
     ]
    },
    {
     "name": "stderr",
     "output_type": "stream",
     "text": [
      "Lossy conversion from float32 to uint8. Range [0, 1]. Convert image to uint8 prior to saving to suppress this warning.\n"
     ]
    },
    {
     "name": "stdout",
     "output_type": "stream",
     "text": [
      "dur =  0.40770435333251953\n",
      "(1, 360, 640)\n",
      "Saved image : 000005191\n",
      "000005231\n"
     ]
    },
    {
     "name": "stderr",
     "output_type": "stream",
     "text": [
      "Lossy conversion from float32 to uint8. Range [0, 1]. Convert image to uint8 prior to saving to suppress this warning.\n"
     ]
    },
    {
     "name": "stdout",
     "output_type": "stream",
     "text": [
      "dur =  0.4074242115020752\n",
      "(1, 360, 640)\n",
      "Saved image : 000005231\n",
      "000000191\n"
     ]
    },
    {
     "name": "stderr",
     "output_type": "stream",
     "text": [
      "Lossy conversion from float32 to uint8. Range [0, 1]. Convert image to uint8 prior to saving to suppress this warning.\n"
     ]
    },
    {
     "name": "stdout",
     "output_type": "stream",
     "text": [
      "dur =  0.413175106048584\n",
      "(1, 360, 640)\n",
      "Saved image : 000000191\n",
      "000004461\n"
     ]
    },
    {
     "name": "stderr",
     "output_type": "stream",
     "text": [
      "Lossy conversion from float32 to uint8. Range [0, 1]. Convert image to uint8 prior to saving to suppress this warning.\n"
     ]
    },
    {
     "name": "stdout",
     "output_type": "stream",
     "text": [
      "dur =  0.4057159423828125\n",
      "(1, 360, 640)\n",
      "Saved image : 000004461\n",
      "000000591\n"
     ]
    },
    {
     "name": "stderr",
     "output_type": "stream",
     "text": [
      "Lossy conversion from float32 to uint8. Range [0, 1]. Convert image to uint8 prior to saving to suppress this warning.\n"
     ]
    },
    {
     "name": "stdout",
     "output_type": "stream",
     "text": [
      "dur =  0.4065718650817871\n",
      "(1, 360, 640)\n",
      "Saved image : 000000591\n",
      "000003711\n"
     ]
    },
    {
     "name": "stderr",
     "output_type": "stream",
     "text": [
      "Lossy conversion from float32 to uint8. Range [0, 1]. Convert image to uint8 prior to saving to suppress this warning.\n"
     ]
    },
    {
     "name": "stdout",
     "output_type": "stream",
     "text": [
      "dur =  0.41411304473876953\n",
      "(1, 360, 640)\n",
      "Saved image : 000003711\n",
      "000001151\n"
     ]
    },
    {
     "name": "stderr",
     "output_type": "stream",
     "text": [
      "Lossy conversion from float32 to uint8. Range [0, 1]. Convert image to uint8 prior to saving to suppress this warning.\n"
     ]
    },
    {
     "name": "stdout",
     "output_type": "stream",
     "text": [
      "dur =  0.4169440269470215\n",
      "(1, 360, 640)\n",
      "Saved image : 000001151\n",
      "000001261\n"
     ]
    },
    {
     "name": "stderr",
     "output_type": "stream",
     "text": [
      "Lossy conversion from float32 to uint8. Range [0, 1]. Convert image to uint8 prior to saving to suppress this warning.\n"
     ]
    },
    {
     "name": "stdout",
     "output_type": "stream",
     "text": [
      "dur =  0.41442394256591797\n",
      "(1, 360, 640)\n",
      "Saved image : 000001261\n",
      "000003991\n"
     ]
    },
    {
     "name": "stderr",
     "output_type": "stream",
     "text": [
      "Lossy conversion from float32 to uint8. Range [0, 1]. Convert image to uint8 prior to saving to suppress this warning.\n"
     ]
    },
    {
     "name": "stdout",
     "output_type": "stream",
     "text": [
      "dur =  0.41063880920410156\n",
      "(1, 360, 640)\n",
      "Saved image : 000003991\n",
      "000001431\n"
     ]
    },
    {
     "name": "stderr",
     "output_type": "stream",
     "text": [
      "Lossy conversion from float32 to uint8. Range [0, 1]. Convert image to uint8 prior to saving to suppress this warning.\n"
     ]
    },
    {
     "name": "stdout",
     "output_type": "stream",
     "text": [
      "dur =  0.40875840187072754\n",
      "(1, 360, 640)\n",
      "Saved image : 000001431\n",
      "000000531\n"
     ]
    },
    {
     "name": "stderr",
     "output_type": "stream",
     "text": [
      "Lossy conversion from float32 to uint8. Range [0, 1]. Convert image to uint8 prior to saving to suppress this warning.\n"
     ]
    },
    {
     "name": "stdout",
     "output_type": "stream",
     "text": [
      "dur =  0.4133567810058594\n",
      "(1, 360, 640)\n",
      "Saved image : 000000531\n",
      "000005001\n"
     ]
    },
    {
     "name": "stderr",
     "output_type": "stream",
     "text": [
      "Lossy conversion from float32 to uint8. Range [0, 1]. Convert image to uint8 prior to saving to suppress this warning.\n"
     ]
    },
    {
     "name": "stdout",
     "output_type": "stream",
     "text": [
      "dur =  0.41315555572509766\n",
      "(1, 360, 640)\n",
      "Saved image : 000005001\n",
      "000000421\n"
     ]
    },
    {
     "name": "stderr",
     "output_type": "stream",
     "text": [
      "Lossy conversion from float32 to uint8. Range [0, 1]. Convert image to uint8 prior to saving to suppress this warning.\n"
     ]
    },
    {
     "name": "stdout",
     "output_type": "stream",
     "text": [
      "dur =  0.41243815422058105\n",
      "(1, 360, 640)\n",
      "Saved image : 000000421\n",
      "000003811\n"
     ]
    },
    {
     "name": "stderr",
     "output_type": "stream",
     "text": [
      "Lossy conversion from float32 to uint8. Range [0, 1]. Convert image to uint8 prior to saving to suppress this warning.\n"
     ]
    },
    {
     "name": "stdout",
     "output_type": "stream",
     "text": [
      "dur =  0.4118685722351074\n",
      "(1, 360, 640)\n",
      "Saved image : 000003811\n",
      "000003981\n"
     ]
    },
    {
     "name": "stderr",
     "output_type": "stream",
     "text": [
      "Lossy conversion from float32 to uint8. Range [0, 1]. Convert image to uint8 prior to saving to suppress this warning.\n"
     ]
    },
    {
     "name": "stdout",
     "output_type": "stream",
     "text": [
      "dur =  0.41707491874694824\n",
      "(1, 360, 640)\n",
      "Saved image : 000003981\n",
      "000004051\n"
     ]
    },
    {
     "name": "stderr",
     "output_type": "stream",
     "text": [
      "Lossy conversion from float32 to uint8. Range [0, 1]. Convert image to uint8 prior to saving to suppress this warning.\n"
     ]
    },
    {
     "name": "stdout",
     "output_type": "stream",
     "text": [
      "dur =  0.4131584167480469\n",
      "(1, 360, 640)\n",
      "Saved image : 000004051\n",
      "000000631\n"
     ]
    },
    {
     "name": "stderr",
     "output_type": "stream",
     "text": [
      "Lossy conversion from float32 to uint8. Range [0, 1]. Convert image to uint8 prior to saving to suppress this warning.\n"
     ]
    },
    {
     "name": "stdout",
     "output_type": "stream",
     "text": [
      "dur =  0.4096832275390625\n",
      "(1, 360, 640)\n",
      "Saved image : 000000631\n",
      "000000171\n"
     ]
    },
    {
     "name": "stderr",
     "output_type": "stream",
     "text": [
      "Lossy conversion from float32 to uint8. Range [0, 1]. Convert image to uint8 prior to saving to suppress this warning.\n"
     ]
    },
    {
     "name": "stdout",
     "output_type": "stream",
     "text": [
      "dur =  0.4138059616088867\n",
      "(1, 360, 640)\n",
      "Saved image : 000000171\n",
      "000003311\n"
     ]
    },
    {
     "name": "stderr",
     "output_type": "stream",
     "text": [
      "Lossy conversion from float32 to uint8. Range [0, 1]. Convert image to uint8 prior to saving to suppress this warning.\n"
     ]
    },
    {
     "name": "stdout",
     "output_type": "stream",
     "text": [
      "dur =  0.41298961639404297\n",
      "(1, 360, 640)\n",
      "Saved image : 000003311\n",
      "000000581\n"
     ]
    },
    {
     "name": "stderr",
     "output_type": "stream",
     "text": [
      "Lossy conversion from float32 to uint8. Range [0, 1]. Convert image to uint8 prior to saving to suppress this warning.\n"
     ]
    },
    {
     "name": "stdout",
     "output_type": "stream",
     "text": [
      "dur =  0.41109561920166016\n",
      "(1, 360, 640)\n",
      "Saved image : 000000581\n",
      "000005241\n"
     ]
    },
    {
     "name": "stderr",
     "output_type": "stream",
     "text": [
      "Lossy conversion from float32 to uint8. Range [0, 1]. Convert image to uint8 prior to saving to suppress this warning.\n"
     ]
    },
    {
     "name": "stdout",
     "output_type": "stream",
     "text": [
      "dur =  0.41674137115478516\n",
      "(1, 360, 640)\n",
      "Saved image : 000005241\n",
      "000000641\n"
     ]
    },
    {
     "name": "stderr",
     "output_type": "stream",
     "text": [
      "Lossy conversion from float32 to uint8. Range [0, 1]. Convert image to uint8 prior to saving to suppress this warning.\n"
     ]
    },
    {
     "name": "stdout",
     "output_type": "stream",
     "text": [
      "dur =  0.41304969787597656\n",
      "(1, 360, 640)\n",
      "Saved image : 000000641\n",
      "000003871\n"
     ]
    },
    {
     "name": "stderr",
     "output_type": "stream",
     "text": [
      "Lossy conversion from float32 to uint8. Range [0, 1]. Convert image to uint8 prior to saving to suppress this warning.\n"
     ]
    },
    {
     "name": "stdout",
     "output_type": "stream",
     "text": [
      "dur =  0.41362547874450684\n",
      "(1, 360, 640)\n",
      "Saved image : 000003871\n",
      "000004711\n"
     ]
    },
    {
     "name": "stderr",
     "output_type": "stream",
     "text": [
      "Lossy conversion from float32 to uint8. Range [0, 1]. Convert image to uint8 prior to saving to suppress this warning.\n"
     ]
    },
    {
     "name": "stdout",
     "output_type": "stream",
     "text": [
      "dur =  0.4149820804595947\n",
      "(1, 360, 640)\n",
      "Saved image : 000004711\n",
      "000003411\n"
     ]
    },
    {
     "name": "stderr",
     "output_type": "stream",
     "text": [
      "Lossy conversion from float32 to uint8. Range [0, 1]. Convert image to uint8 prior to saving to suppress this warning.\n"
     ]
    },
    {
     "name": "stdout",
     "output_type": "stream",
     "text": [
      "dur =  0.411090612411499\n",
      "(1, 360, 640)\n",
      "Saved image : 000003411\n",
      "000005041\n"
     ]
    },
    {
     "name": "stderr",
     "output_type": "stream",
     "text": [
      "Lossy conversion from float32 to uint8. Range [0, 1]. Convert image to uint8 prior to saving to suppress this warning.\n"
     ]
    },
    {
     "name": "stdout",
     "output_type": "stream",
     "text": [
      "dur =  0.41202211380004883\n",
      "(1, 360, 640)\n",
      "Saved image : 000005041\n",
      "000001441\n"
     ]
    },
    {
     "name": "stderr",
     "output_type": "stream",
     "text": [
      "Lossy conversion from float32 to uint8. Range [0, 1]. Convert image to uint8 prior to saving to suppress this warning.\n"
     ]
    },
    {
     "name": "stdout",
     "output_type": "stream",
     "text": [
      "dur =  0.4120187759399414\n",
      "(1, 360, 640)\n",
      "Saved image : 000001441\n",
      "000000311\n"
     ]
    },
    {
     "name": "stderr",
     "output_type": "stream",
     "text": [
      "Lossy conversion from float32 to uint8. Range [0, 1]. Convert image to uint8 prior to saving to suppress this warning.\n"
     ]
    },
    {
     "name": "stdout",
     "output_type": "stream",
     "text": [
      "dur =  0.41312241554260254\n",
      "(1, 360, 640)\n",
      "Saved image : 000000311\n",
      "000004781\n"
     ]
    },
    {
     "name": "stderr",
     "output_type": "stream",
     "text": [
      "Lossy conversion from float32 to uint8. Range [0, 1]. Convert image to uint8 prior to saving to suppress this warning.\n"
     ]
    },
    {
     "name": "stdout",
     "output_type": "stream",
     "text": [
      "dur =  0.41672539710998535\n",
      "(1, 360, 640)\n",
      "Saved image : 000004781\n",
      "000003531\n"
     ]
    },
    {
     "name": "stderr",
     "output_type": "stream",
     "text": [
      "Lossy conversion from float32 to uint8. Range [0, 1]. Convert image to uint8 prior to saving to suppress this warning.\n"
     ]
    },
    {
     "name": "stdout",
     "output_type": "stream",
     "text": [
      "dur =  0.4119389057159424\n",
      "(1, 360, 640)\n",
      "Saved image : 000003531\n",
      "000003401\n"
     ]
    },
    {
     "name": "stderr",
     "output_type": "stream",
     "text": [
      "Lossy conversion from float32 to uint8. Range [0, 1]. Convert image to uint8 prior to saving to suppress this warning.\n"
     ]
    },
    {
     "name": "stdout",
     "output_type": "stream",
     "text": [
      "dur =  0.4136183261871338\n",
      "(1, 360, 640)\n",
      "Saved image : 000003401\n",
      "000003351\n"
     ]
    },
    {
     "name": "stderr",
     "output_type": "stream",
     "text": [
      "Lossy conversion from float32 to uint8. Range [0, 1]. Convert image to uint8 prior to saving to suppress this warning.\n"
     ]
    },
    {
     "name": "stdout",
     "output_type": "stream",
     "text": [
      "dur =  0.411740779876709\n",
      "(1, 360, 640)\n",
      "Saved image : 000003351\n",
      "000003681\n"
     ]
    },
    {
     "name": "stderr",
     "output_type": "stream",
     "text": [
      "Lossy conversion from float32 to uint8. Range [0, 1]. Convert image to uint8 prior to saving to suppress this warning.\n"
     ]
    },
    {
     "name": "stdout",
     "output_type": "stream",
     "text": [
      "dur =  0.4163479804992676\n",
      "(1, 360, 640)\n",
      "Saved image : 000003681\n",
      "000000921\n"
     ]
    },
    {
     "name": "stderr",
     "output_type": "stream",
     "text": [
      "Lossy conversion from float32 to uint8. Range [0, 1]. Convert image to uint8 prior to saving to suppress this warning.\n"
     ]
    },
    {
     "name": "stdout",
     "output_type": "stream",
     "text": [
      "dur =  0.41011595726013184\n",
      "(1, 360, 640)\n",
      "Saved image : 000000921\n",
      "000000951\n"
     ]
    },
    {
     "name": "stderr",
     "output_type": "stream",
     "text": [
      "Lossy conversion from float32 to uint8. Range [0, 1]. Convert image to uint8 prior to saving to suppress this warning.\n"
     ]
    },
    {
     "name": "stdout",
     "output_type": "stream",
     "text": [
      "dur =  0.41424560546875\n",
      "(1, 360, 640)\n",
      "Saved image : 000000951\n",
      "000000761\n"
     ]
    },
    {
     "name": "stderr",
     "output_type": "stream",
     "text": [
      "Lossy conversion from float32 to uint8. Range [0, 1]. Convert image to uint8 prior to saving to suppress this warning.\n"
     ]
    },
    {
     "name": "stdout",
     "output_type": "stream",
     "text": [
      "dur =  0.41378188133239746\n",
      "(1, 360, 640)\n",
      "Saved image : 000000761\n",
      "000000341\n"
     ]
    },
    {
     "name": "stderr",
     "output_type": "stream",
     "text": [
      "Lossy conversion from float32 to uint8. Range [0, 1]. Convert image to uint8 prior to saving to suppress this warning.\n"
     ]
    },
    {
     "name": "stdout",
     "output_type": "stream",
     "text": [
      "dur =  0.4096229076385498\n",
      "(1, 360, 640)\n",
      "Saved image : 000000341\n",
      "000004601\n"
     ]
    },
    {
     "name": "stderr",
     "output_type": "stream",
     "text": [
      "Lossy conversion from float32 to uint8. Range [0, 1]. Convert image to uint8 prior to saving to suppress this warning.\n"
     ]
    },
    {
     "name": "stdout",
     "output_type": "stream",
     "text": [
      "dur =  0.4150710105895996\n",
      "(1, 360, 640)\n",
      "Saved image : 000004601\n",
      "000003461\n"
     ]
    },
    {
     "name": "stderr",
     "output_type": "stream",
     "text": [
      "Lossy conversion from float32 to uint8. Range [0, 1]. Convert image to uint8 prior to saving to suppress this warning.\n"
     ]
    },
    {
     "name": "stdout",
     "output_type": "stream",
     "text": [
      "dur =  0.4144575595855713\n",
      "(1, 360, 640)\n",
      "Saved image : 000003461\n",
      "000000671\n"
     ]
    },
    {
     "name": "stderr",
     "output_type": "stream",
     "text": [
      "Lossy conversion from float32 to uint8. Range [0, 1]. Convert image to uint8 prior to saving to suppress this warning.\n"
     ]
    },
    {
     "name": "stdout",
     "output_type": "stream",
     "text": [
      "dur =  0.4133634567260742\n",
      "(1, 360, 640)\n",
      "Saved image : 000000671\n",
      "000000681\n"
     ]
    },
    {
     "name": "stderr",
     "output_type": "stream",
     "text": [
      "Lossy conversion from float32 to uint8. Range [0, 1]. Convert image to uint8 prior to saving to suppress this warning.\n"
     ]
    },
    {
     "name": "stdout",
     "output_type": "stream",
     "text": [
      "dur =  0.4168367385864258\n",
      "(1, 360, 640)\n",
      "Saved image : 000000681\n",
      "000002481\n"
     ]
    },
    {
     "name": "stderr",
     "output_type": "stream",
     "text": [
      "Lossy conversion from float32 to uint8. Range [0, 1]. Convert image to uint8 prior to saving to suppress this warning.\n"
     ]
    },
    {
     "name": "stdout",
     "output_type": "stream",
     "text": [
      "dur =  0.4120960235595703\n",
      "(1, 360, 640)\n",
      "Saved image : 000002481\n",
      "000001421\n"
     ]
    },
    {
     "name": "stderr",
     "output_type": "stream",
     "text": [
      "Lossy conversion from float32 to uint8. Range [0, 1]. Convert image to uint8 prior to saving to suppress this warning.\n"
     ]
    },
    {
     "name": "stdout",
     "output_type": "stream",
     "text": [
      "dur =  0.40901923179626465\n",
      "(1, 360, 640)\n",
      "Saved image : 000001421\n",
      "000002541\n"
     ]
    },
    {
     "name": "stderr",
     "output_type": "stream",
     "text": [
      "Lossy conversion from float32 to uint8. Range [0, 1]. Convert image to uint8 prior to saving to suppress this warning.\n"
     ]
    },
    {
     "name": "stdout",
     "output_type": "stream",
     "text": [
      "dur =  0.410369873046875\n",
      "(1, 360, 640)\n",
      "Saved image : 000002541\n",
      "000005111\n"
     ]
    },
    {
     "name": "stderr",
     "output_type": "stream",
     "text": [
      "Lossy conversion from float32 to uint8. Range [0, 1]. Convert image to uint8 prior to saving to suppress this warning.\n"
     ]
    },
    {
     "name": "stdout",
     "output_type": "stream",
     "text": [
      "dur =  0.412398099899292\n",
      "(1, 360, 640)\n",
      "Saved image : 000005111\n",
      "000002121\n"
     ]
    },
    {
     "name": "stderr",
     "output_type": "stream",
     "text": [
      "Lossy conversion from float32 to uint8. Range [0, 1]. Convert image to uint8 prior to saving to suppress this warning.\n"
     ]
    },
    {
     "name": "stdout",
     "output_type": "stream",
     "text": [
      "dur =  0.40766215324401855\n",
      "(1, 360, 640)\n",
      "Saved image : 000002121\n",
      "000000241\n"
     ]
    },
    {
     "name": "stderr",
     "output_type": "stream",
     "text": [
      "Lossy conversion from float32 to uint8. Range [0, 1]. Convert image to uint8 prior to saving to suppress this warning.\n"
     ]
    },
    {
     "name": "stdout",
     "output_type": "stream",
     "text": [
      "dur =  0.4103708267211914\n",
      "(1, 360, 640)\n",
      "Saved image : 000000241\n"
     ]
    },
    {
     "ename": "SystemExit",
     "evalue": "",
     "output_type": "error",
     "traceback": [
      "An exception has occurred, use %tb to see the full traceback.\n",
      "\u001b[0;31mSystemExit\u001b[0m\n"
     ]
    },
    {
     "name": "stderr",
     "output_type": "stream",
     "text": [
      "/network/home/cosnegau/.conda/envs/python36_env/lib/python3.6/site-packages/IPython/core/interactiveshell.py:3304: UserWarning: To exit: use 'exit', 'quit', or Ctrl-D.\n",
      "  warn(\"To exit: use 'exit', 'quit', or Ctrl-D.\", stacklevel=1)\n"
     ]
    }
   ],
   "source": [
    "tf.app.run()"
   ]
  },
  {
   "cell_type": "code",
   "execution_count": null,
   "metadata": {},
   "outputs": [],
   "source": [
    "# p = np.genfromtxt(FLAGS.data_dir+'flood_montreal.txt', dtype='str')\n",
    "# p.reshape(-1,1).shape\n",
    "# !cat /network/tmp1/cosnegau/Dataset/flood_montreal.txt\n",
    "# !rm -rf /network/tmp1/cosnegau/Dataset/images/flood_montreal/\n",
    "# !ls /network/tmp1/cosnegau/Dataset/images/\n",
    "# !rm -rf /network/tmp1/cosnegau/results\n",
    "# !mkdir /network/tmp1/cosnegau/results"
   ]
  },
  {
   "cell_type": "code",
   "execution_count": 4,
   "metadata": {},
   "outputs": [
    {
     "name": "stdout",
     "output_type": "stream",
     "text": [
      "000000101.png  000000531.png  000001151.png  000003421.png  000004781.png\r\n",
      "000000151.png  000000581.png  000001261.png  000003461.png  000004981.png\r\n",
      "000000171.png  000000591.png  000001271.png  000003531.png  000005001.png\r\n",
      "000000181.png  000000621.png  000001421.png  000003681.png  000005031.png\r\n",
      "000000191.png  000000631.png  000001431.png  000003711.png  000005041.png\r\n",
      "000000221.png  000000641.png  000001441.png  000003791.png  000005101.png\r\n",
      "000000241.png  000000671.png  000002101.png  000003811.png  000005111.png\r\n",
      "000000251.png  000000681.png  000002121.png  000003861.png  000005131.png\r\n",
      "000000281.png  000000751.png  000002201.png  000003871.png  000005181.png\r\n",
      "000000301.png  000000761.png  000002251.png  000003891.png  000005191.png\r\n",
      "000000311.png  000000771.png  000002481.png  000003981.png  000005231.png\r\n",
      "000000341.png  000000781.png  000002531.png  000003991.png  000005241.png\r\n",
      "000000381.png  000000871.png  000002541.png  000004001.png  000005331.png\r\n",
      "000000391.png  000000911.png  000003271.png  000004051.png  00000.png\r\n",
      "000000421.png  000000921.png  000003311.png  000004461.png\r\n",
      "000000471.png  000000941.png  000003351.png  000004591.png\r\n",
      "000000491.png  000000951.png  000003401.png  000004601.png\r\n",
      "000000511.png  000001121.png  000003411.png  000004711.png\r\n"
     ]
    }
   ],
   "source": [
    "!ls /network/tmp1/cosnegau/results"
   ]
  },
  {
   "cell_type": "markdown",
   "metadata": {},
   "source": [
    "**Visualize Results**"
   ]
  },
  {
   "cell_type": "code",
   "execution_count": 8,
   "metadata": {},
   "outputs": [
    {
     "data": {
      "image/png": "[encoded data removed]",
      "text/plain": [
       "<IPython.core.display.Image object>"
      ]
     },
     "execution_count": 8,
     "metadata": {},
     "output_type": "execute_result"
    }
   ],
   "source": [
    "# import the necessary packages\n",
    "from __future__ import print_function\n",
    "import numpy as np\n",
    "import cv2\n",
    "from IPython.display import Image\n",
    "\n",
    "img_name = \"000000101.png\"\n",
    "path = \"/network/tmp1/cosnegau/\"\n",
    "bin_path = \"results/\"+img_name\n",
    "img_path = \"Dataset/images/on_road/img_\"+img_name\n",
    "# load the image\n",
    "\n",
    "original_image = cv2.imread(path+img_path)\n",
    "overlay = cv2.imread(path+bin_path)\n",
    "overlay = cv2.resize(overlay,(int(original_image.shape[1]),int(original_image.shape[0])))\n",
    "alpha= 0.3\n",
    "# apply the overlay\n",
    "new_im = cv2.addWeighted(overlay, alpha, original_image, 1 - alpha,\n",
    "    0, original_image)\n",
    "\n",
    "imageio.imsave(path+\"results/overlay_\"+img_name, new_im)\n",
    "\n",
    "Image(filename = path+\"results/overlay_\"+img_name)"
   ]
  },
  {
   "cell_type": "code",
   "execution_count": 6,
   "metadata": {},
   "outputs": [
    {
     "data": {
      "image/png": "[encoded data removed]",
      "text/plain": [
       "<IPython.core.display.Image object>"
      ]
     },
     "execution_count": 6,
     "metadata": {},
     "output_type": "execute_result"
    }
   ],
   "source": [
    "from IPython.display import Image\n",
    "Image(filename = path+bin_path)"
   ]
  },
  {
   "cell_type": "code",
   "execution_count": null,
   "metadata": {},
   "outputs": [],
   "source": []
  }
 ],
 "metadata": {
  "kernelspec": {
   "display_name": "Python 3",
   "language": "python",
   "name": "python3"
  },
  "language_info": {
   "codemirror_mode": {
    "name": "ipython",
    "version": 3
   },
   "file_extension": ".py",
   "mimetype": "text/x-python",
   "name": "python",
   "nbconvert_exporter": "python",
   "pygments_lexer": "ipython3",
   "version": "3.6.8"
  }
 },
 "nbformat": 4,
 "nbformat_minor": 2
}
